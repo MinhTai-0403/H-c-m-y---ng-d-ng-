{
 "cells": [
  {
   "cell_type": "code",
   "execution_count": 8,
   "metadata": {},
   "outputs": [
    {
     "name": "stdout",
     "output_type": "stream",
     "text": [
      "                                                Text     Label\n",
      "0  The impact of educational reforms remains unce...  positive\n",
      "1  Critics argue that recent improvements in the ...  negative\n",
      "2  Innovative teaching methods have led to unexpe...  positive\n",
      "3  Despite budget constraints, the school has man...  positive\n",
      "4  The true effectiveness of online learning plat...  negative\n",
      "Accuracy of Multinomial Naive Bayes: 0.6363636363636364\n",
      "              precision    recall  f1-score   support\n",
      "\n",
      "    negative       0.50      1.00      0.67         4\n",
      "    positive       1.00      0.43      0.60         7\n",
      "\n",
      "    accuracy                           0.64        11\n",
      "   macro avg       0.75      0.71      0.63        11\n",
      "weighted avg       0.82      0.64      0.62        11\n",
      "\n",
      "Accuracy of Bernoulli Naive Bayes: 0.5454545454545454\n",
      "              precision    recall  f1-score   support\n",
      "\n",
      "    negative       0.44      1.00      0.62         4\n",
      "    positive       1.00      0.29      0.44         7\n",
      "\n",
      "    accuracy                           0.55        11\n",
      "   macro avg       0.72      0.64      0.53        11\n",
      "weighted avg       0.80      0.55      0.51        11\n",
      "\n"
     ]
    }
   ],
   "source": [
    "import pandas as pd\n",
    "from sklearn.model_selection import train_test_split\n",
    "from sklearn.feature_extraction.text import CountVectorizer\n",
    "# Đọc dữ liệu từ file CSV\n",
    "df = pd.read_csv('Education.csv')\n",
    "\n",
    "# Hiển thị một vài dòng dữ liệu để kiểm tra\n",
    "print(df.head())\n",
    "# Tách dữ liệu thành văn bản và nhãn\n",
    "X = df['Text']\n",
    "y = df['Label']\n",
    "\n",
    "# Chia dữ liệu thành tập huấn luyện và tập kiểm tra\n",
    "X_train, X_test, y_train, y_test = train_test_split(X, y, test_size=0.2, random_state=42)\n",
    "\n",
    "# Chuyển đổi văn bản thành ma trận từ\n",
    "vectorizer = CountVectorizer()\n",
    "X_train_counts = vectorizer.fit_transform(X_train)\n",
    "X_test_counts = vectorizer.transform(X_test)\n",
    "from sklearn.naive_bayes import MultinomialNB\n",
    "from sklearn import metrics\n",
    "\n",
    "# Khởi tạo mô hình Multinomial Naive Bayes\n",
    "model_multinomial = MultinomialNB()\n",
    "\n",
    "# Huấn luyện mô hình\n",
    "model_multinomial.fit(X_train_counts, y_train)\n",
    "\n",
    "# Dự đoán trên tập kiểm tra\n",
    "y_pred_multinomial = model_multinomial.predict(X_test_counts)\n",
    "\n",
    "# Đánh giá mô hình\n",
    "accuracy_multinomial = metrics.accuracy_score(y_test, y_pred_multinomial)\n",
    "print(f'Accuracy of Multinomial Naive Bayes: {accuracy_multinomial}')\n",
    "print(metrics.classification_report(y_test, y_pred_multinomial))\n",
    "from sklearn.naive_bayes import BernoulliNB\n",
    "\n",
    "# Khởi tạo mô hình Bernoulli Naive Bayes\n",
    "model_bernoulli = BernoulliNB()\n",
    "\n",
    "# Huấn luyện mô hình\n",
    "model_bernoulli.fit(X_train_counts, y_train)\n",
    "\n",
    "# Dự đoán trên tập kiểm tra\n",
    "y_pred_bernoulli = model_bernoulli.predict(X_test_counts)\n",
    "\n",
    "# Đánh giá mô hình\n",
    "accuracy_bernoulli = metrics.accuracy_score(y_test, y_pred_bernoulli)\n",
    "print(f'Accuracy of Bernoulli Naive Bayes: {accuracy_bernoulli}')\n",
    "print(metrics.classification_report(y_test, y_pred_bernoulli))\n",
    "\n"
   ]
  }
 ],
 "metadata": {
  "kernelspec": {
   "display_name": "Python 3",
   "language": "python",
   "name": "python3"
  },
  "language_info": {
   "codemirror_mode": {
    "name": "ipython",
    "version": 3
   },
   "file_extension": ".py",
   "mimetype": "text/x-python",
   "name": "python",
   "nbconvert_exporter": "python",
   "pygments_lexer": "ipython3",
   "version": "3.11.0"
  }
 },
 "nbformat": 4,
 "nbformat_minor": 2
}
