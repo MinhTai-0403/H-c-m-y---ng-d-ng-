{
 "cells": [
  {
   "cell_type": "code",
   "execution_count": 2,
   "metadata": {},
   "outputs": [
    {
     "name": "stdout",
     "output_type": "stream",
     "text": [
      "   Age Sex      BP Cholesterol  Na_to_K   Drug\n",
      "0   23   F    HIGH        HIGH   25.355  DrugY\n",
      "1   47   M     LOW        HIGH   13.093  drugC\n",
      "2   47   M     LOW        HIGH   10.114  drugC\n",
      "3   28   F  NORMAL        HIGH    7.798  drugX\n",
      "4   61   F     LOW        HIGH   18.043  DrugY\n",
      "   Age  Sex  BP  Cholesterol  Na_to_K   Drug\n",
      "0   23    0   0            0   25.355  DrugY\n",
      "1   47    1   1            0   13.093  drugC\n",
      "2   47    1   1            0   10.114  drugC\n",
      "3   28    0   2            0    7.798  drugX\n",
      "4   61    0   1            0   18.043  DrugY\n",
      "Accuracy of Gaussian Naive Bayes: 0.925\n",
      "              precision    recall  f1-score   support\n",
      "\n",
      "       DrugY       1.00      0.80      0.89        15\n",
      "       drugA       0.86      1.00      0.92         6\n",
      "       drugB       0.75      1.00      0.86         3\n",
      "       drugC       0.83      1.00      0.91         5\n",
      "       drugX       1.00      1.00      1.00        11\n",
      "\n",
      "    accuracy                           0.93        40\n",
      "   macro avg       0.89      0.96      0.92        40\n",
      "weighted avg       0.94      0.93      0.92        40\n",
      "\n"
     ]
    }
   ],
   "source": [
    "import pandas as pd\n",
    "\n",
    "# Đọc dữ liệu từ file CSV\n",
    "df = pd.read_csv('Drug.csv')\n",
    "\n",
    "# Hiển thị một vài dòng dữ liệu để kiểm tra\n",
    "print(df.head())\n",
    "from sklearn.preprocessing import LabelEncoder\n",
    "\n",
    "# Mã hóa dữ liệu phân loại sang số\n",
    "labelencoder = LabelEncoder()\n",
    "\n",
    "df['Sex'] = labelencoder.fit_transform(df['Sex'])\n",
    "df['BP'] = labelencoder.fit_transform(df['BP'])\n",
    "df['Cholesterol'] = labelencoder.fit_transform(df['Cholesterol'])\n",
    "\n",
    "# Hiển thị dữ liệu đã mã hóa\n",
    "print(df.head())\n",
    "from sklearn.model_selection import train_test_split\n",
    "\n",
    "# Xác định các đặc trưng (features) và nhãn (label)\n",
    "X = df[['Age', 'Sex', 'BP', 'Cholesterol', 'Na_to_K']]\n",
    "y = df['Drug']\n",
    "\n",
    "# Chia dữ liệu thành tập huấn luyện và tập kiểm tra\n",
    "X_train, X_test, y_train, y_test = train_test_split(X, y, test_size=0.2, random_state=42)\n",
    "from sklearn.naive_bayes import GaussianNB\n",
    "from sklearn import metrics\n",
    "\n",
    "# Khởi tạo mô hình Gaussian Naive Bayes\n",
    "model_gaussian = GaussianNB()\n",
    "\n",
    "# Huấn luyện mô hình\n",
    "model_gaussian.fit(X_train, y_train)\n",
    "\n",
    "# Dự đoán trên tập kiểm tra\n",
    "y_pred = model_gaussian.predict(X_test)\n",
    "\n",
    "# Đánh giá mô hình\n",
    "accuracy = metrics.accuracy_score(y_test, y_pred)\n",
    "print(f'Accuracy of Gaussian Naive Bayes: {accuracy}')\n",
    "print(metrics.classification_report(y_test, y_pred))\n"
   ]
  }
 ],
 "metadata": {
  "kernelspec": {
   "display_name": "Python 3",
   "language": "python",
   "name": "python3"
  },
  "language_info": {
   "codemirror_mode": {
    "name": "ipython",
    "version": 3
   },
   "file_extension": ".py",
   "mimetype": "text/x-python",
   "name": "python",
   "nbconvert_exporter": "python",
   "pygments_lexer": "ipython3",
   "version": "3.11.0"
  }
 },
 "nbformat": 4,
 "nbformat_minor": 2
}
